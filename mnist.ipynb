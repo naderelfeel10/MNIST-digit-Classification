{
 "cells": [
  {
   "cell_type": "markdown",
   "id": "b4efca11",
   "metadata": {},
   "source": [
    "## 1.Importing Libs"
   ]
  },
  {
   "cell_type": "code",
   "execution_count": null,
   "id": "d858984b",
   "metadata": {},
   "outputs": [],
   "source": [
    "import torch\n",
    "import torch.nn as nn\n",
    "import torch.optim as optim\n",
    "import torchvision\n",
    "import torchvision.transforms as transforms\n",
    "from torch.utils.data import DataLoader , Dataset\n",
    "%matplotlib inline\n",
    "import matplotlib.pyplot as plt\n",
    "import pandas as pd\n",
    "import numpy as np"
   ]
  },
  {
   "cell_type": "markdown",
   "id": "58bbd1a9",
   "metadata": {},
   "source": [
    "using GPU"
   ]
  },
  {
   "cell_type": "code",
   "execution_count": null,
   "id": "1394d106",
   "metadata": {},
   "outputs": [
    {
     "name": "stdout",
     "output_type": "stream",
     "text": [
      "cuda\n"
     ]
    }
   ],
   "source": [
    "device = torch.device(\"cuda\" if torch.cuda.is_available() else \"cpu\")\n",
    "print(device)"
   ]
  },
  {
   "cell_type": "markdown",
   "id": "5a623718",
   "metadata": {},
   "source": [
    "## 2.Building custom DataSet"
   ]
  },
  {
   "cell_type": "code",
   "execution_count": null,
   "id": "0d6d8bc2",
   "metadata": {},
   "outputs": [],
   "source": [
    "class CustomMNISTDataSet(Dataset):\n",
    "    def __init__(self,csv_file,transform=None,is_test=False):\n",
    "        self.data_frame = pd.read_csv(csv_file)\n",
    "        self.transform = transform\n",
    "        self.is_test = is_test\n",
    "\n",
    "    def __len__(self):\n",
    "        return len(self.data_frame)\n",
    "    \n",
    "    def __getitem__(self, index):\n",
    "        item  = self.data_frame.iloc[index]\n",
    "\n",
    "        if self.is_test:\n",
    "            image = item.values.reshape(28,28).astype(np.uint8)\n",
    "            label = None\n",
    "        else:\n",
    "            image = item[1:].values.reshape(28,28).astype(np.uint8)\n",
    "            label = item.iloc[0]\n",
    "        image = transforms.ToPILImage()(image)\n",
    "        if self.transform is not None:\n",
    "            image = self.transform(image)\n",
    "        if self.is_test:\n",
    "            return image\n",
    "        else :\n",
    "            return image,label \n"
   ]
  },
  {
   "cell_type": "markdown",
   "id": "18b30b54",
   "metadata": {},
   "source": [
    "applying some transformations and normalization"
   ]
  },
  {
   "cell_type": "code",
   "execution_count": null,
   "id": "bf4b59ed",
   "metadata": {},
   "outputs": [],
   "source": [
    "transform = transforms.Compose(\n",
    "    [\n",
    "        transforms.RandomRotation(15),\n",
    "        transforms.ToTensor(),\n",
    "        transforms.Normalize((0.5,) , (0.5,))\n",
    "    ]\n",
    ")"
   ]
  },
  {
   "cell_type": "markdown",
   "id": "a15667f7",
   "metadata": {},
   "source": [
    "## 3.Splitting data into trian val test"
   ]
  },
  {
   "cell_type": "code",
   "execution_count": null,
   "id": "50c66b71",
   "metadata": {},
   "outputs": [],
   "source": [
    "from sklearn.model_selection import train_test_split\n",
    "\n",
    "df = pd.read_csv(\"train.csv\")\n",
    "\n",
    "train_df, val_df = train_test_split(df, test_size=0.3, random_state=42)\n",
    "\n",
    "train_df.to_csv(\"train_split.csv\", index=False)\n",
    "val_df.to_csv(\"val_split.csv\", index=False)"
   ]
  },
  {
   "cell_type": "code",
   "execution_count": null,
   "id": "eec68405",
   "metadata": {},
   "outputs": [],
   "source": [
    "train_data_set = CustomMNISTDataSet(\n",
    "    csv_file=\"train_split.csv\", transform=transform, is_test=False\n",
    ")\n",
    "val_data_set = CustomMNISTDataSet(\n",
    "    csv_file=\"val_split.csv\", transform=transform, is_test=False\n",
    ")\n",
    "test_data_set = CustomMNISTDataSet(\n",
    "    csv_file=\"test.csv\", transform=transform, is_test=True\n",
    ")"
   ]
  },
  {
   "cell_type": "code",
   "execution_count": null,
   "id": "4cd0b8f9",
   "metadata": {},
   "outputs": [
    {
     "name": "stdout",
     "output_type": "stream",
     "text": [
      "train size :  29400\n",
      "test size :  28000\n"
     ]
    }
   ],
   "source": [
    "print(\"train size : \",len(train_data_set))\n",
    "print(\"test size : \",len(test_data_set))"
   ]
  },
  {
   "cell_type": "code",
   "execution_count": null,
   "id": "dcc9742b",
   "metadata": {},
   "outputs": [],
   "source": [
    "batch_size = 64\n",
    "train_loader = DataLoader(train_data_set, batch_size=batch_size, shuffle=True, num_workers=0)\n",
    "val_loader   = DataLoader(val_data_set, batch_size=batch_size, shuffle=False, num_workers=0)\n",
    "test_loader  = DataLoader(test_data_set, batch_size=batch_size, shuffle=False, num_workers=0)\n",
    "\n",
    "loaders = {\"train\": train_loader, \"val\": val_loader, \"test\": test_loader}"
   ]
  },
  {
   "cell_type": "markdown",
   "id": "463fc1c9",
   "metadata": {},
   "source": [
    "image example : "
   ]
  },
  {
   "cell_type": "code",
   "execution_count": null,
   "id": "82e55ad8",
   "metadata": {},
   "outputs": [
    {
     "name": "stdout",
     "output_type": "stream",
     "text": [
      "input size :  torch.Size([64, 1, 28, 28])\n"
     ]
    },
    {
     "data": {
      "image/png": "[encoded data removed]",
      "text/plain": [
       "<Figure size 640x480 with 1 Axes>"
      ]
     },
     "metadata": {},
     "output_type": "display_data"
    },
    {
     "name": "stdout",
     "output_type": "stream",
     "text": [
      "input size :  torch.Size([64, 1, 28, 28])\n"
     ]
    },
    {
     "data": {
      "image/png": "[encoded data removed]",
      "text/plain": [
       "<Figure size 640x480 with 1 Axes>"
      ]
     },
     "metadata": {},
     "output_type": "display_data"
    },
    {
     "name": "stdout",
     "output_type": "stream",
     "text": [
      "input size :  torch.Size([64, 1, 28, 28])\n"
     ]
    },
    {
     "data": {
      "image/png": "[encoded data removed]",
      "text/plain": [
       "<Figure size 640x480 with 1 Axes>"
      ]
     },
     "metadata": {},
     "output_type": "display_data"
    },
    {
     "name": "stdout",
     "output_type": "stream",
     "text": [
      "input size :  torch.Size([64, 1, 28, 28])\n"
     ]
    },
    {
     "data": {
      "image/png": "[encoded data removed]",
      "text/plain": [
       "<Figure size 640x480 with 1 Axes>"
      ]
     },
     "metadata": {},
     "output_type": "display_data"
    },
    {
     "name": "stdout",
     "output_type": "stream",
     "text": [
      "input size :  torch.Size([64, 1, 28, 28])\n"
     ]
    },
    {
     "data": {
      "image/png": "[encoded data removed]",
      "text/plain": [
       "<Figure size 640x480 with 1 Axes>"
      ]
     },
     "metadata": {},
     "output_type": "display_data"
    },
    {
     "name": "stdout",
     "output_type": "stream",
     "text": [
      "input size :  torch.Size([64, 1, 28, 28])\n"
     ]
    },
    {
     "data": {
      "image/png": "[encoded data removed]",
      "text/plain": [
       "<Figure size 640x480 with 1 Axes>"
      ]
     },
     "metadata": {},
     "output_type": "display_data"
    }
   ],
   "source": [
    "for idx,(d, l) in enumerate(train_loader):\n",
    "    print(\"input size : \", d.size())  \n",
    "\n",
    "    image = d[0].cpu().squeeze().numpy()  \n",
    "    plt.imshow(image)\n",
    "    plt.title(f\"Label : {l[0].item()}\")\n",
    "    plt.axis(\"off\")\n",
    "    plt.show()\n",
    "    if idx == 5:\n",
    "        break"
   ]
  },
  {
   "cell_type": "markdown",
   "id": "40d267fe",
   "metadata": {},
   "source": [
    "## 5.Designing the CNN"
   ]
  },
  {
   "cell_type": "code",
   "execution_count": null,
   "id": "312c1143",
   "metadata": {},
   "outputs": [],
   "source": [
    "import torch.nn.functional as F\n",
    "\n",
    "class SimpleCNN(nn.Module):\n",
    "    def __init__(self):\n",
    "        super(SimpleCNN,self).__init__()\n",
    "        self.conv1 = nn.Conv2d(in_channels=1,out_channels=32,kernel_size=3,stride=1,padding=1)\n",
    "        self.bn1 = nn.BatchNorm2d(32)   # BatchNorm after conv1\n",
    "        self.relu = nn.ReLU()\n",
    "\n",
    "        self.pool = nn.MaxPool2d(kernel_size=2 , stride=2)\n",
    "        self.conv2 = nn.Conv2d(in_channels=32,out_channels=64,kernel_size=3,stride=1,padding=1)\n",
    "        self.bn2 = nn.BatchNorm2d(64)  \n",
    "\n",
    "        self.conv3 = nn.Conv2d(in_channels=64,out_channels=128,kernel_size=3,stride=1,padding=1)\n",
    "        self.bn3 = nn.BatchNorm2d(128)   \n",
    "        self.pool = nn.MaxPool2d(kernel_size=2 , stride=2)\n",
    "\n",
    "        self.fc1 = nn.Linear(128*7*7,128)  # (( width - k + 2*P) / s )    +1  ===>>> 14 > 7\n",
    "        self.bn_fc1 = nn.BatchNorm1d(128)  \n",
    "        self.dropout = nn.Dropout(0.5)   ## for overfitting\n",
    "        self.fc2 = nn.Linear(128,20)\n",
    "        self.fc3 = nn.Linear(20,10)\n",
    "\n",
    "\n",
    "\n",
    "\n",
    "\n",
    "    def forward(self, X):\n",
    "\n",
    "        X = self.pool(F.relu(self.bn1(self.conv1(X))))\n",
    "        X = F.relu(self.bn2(self.conv2(X)))\n",
    "        X = self.pool(F.relu(self.bn3(self.conv3(X))))\n",
    "\n",
    "\n",
    "        X_size = X.size(1) * X.size(2) * X.size(3)\n",
    "        X = X.view(-1, X_size)\n",
    "\n",
    "\n",
    "\n",
    "\n",
    "        X = F.relu(self.bn_fc1(self.fc1(X)))\n",
    "        X = self.dropout(X)\n",
    "        X = self.fc2(X)\n",
    "        X = self.fc3(X)\n",
    "\n",
    "        return F.log_softmax(X, dim=1)\n",
    "\n"
   ]
  },
  {
   "cell_type": "markdown",
   "id": "58798a72",
   "metadata": {},
   "source": [
    "## 6.Saving into Check Points "
   ]
  },
  {
   "cell_type": "code",
   "execution_count": 13,
   "id": "d4021669",
   "metadata": {},
   "outputs": [],
   "source": [
    "def save_checkpoint(model , optimizer , epoch , scheduler,  best_acc):\n",
    "    check_point = {'epoch' : epoch,\n",
    "                   'model' : model.state_dict() , \n",
    "                   'optimizer' : optimizer.state_dict(), \n",
    "                   'scheduler' : scheduler.state_dict() if scheduler  else None , \n",
    "                   'best_acc' : best_acc}\n",
    "    torch.save(check_point, 'CheckPoint.pth')\n",
    "    print(\"New checkpoint saved....\")\n",
    "    "
   ]
  },
  {
   "cell_type": "markdown",
   "id": "8e9d9085",
   "metadata": {},
   "source": [
    "## 7.Modeling & Evaluation"
   ]
  },
  {
   "cell_type": "code",
   "execution_count": 12,
   "id": "2f04581b",
   "metadata": {},
   "outputs": [],
   "source": [
    "model = SimpleCNN().to(device)\n",
    "criterion  = nn.CrossEntropyLoss()\n",
    "optimizer = optim.AdamW(model.parameters(),lr=0.001)"
   ]
  },
  {
   "cell_type": "code",
   "execution_count": 14,
   "id": "a3fcbe09",
   "metadata": {},
   "outputs": [],
   "source": [
    "from torch.optim.lr_scheduler import StepLR, ExponentialLR, ReduceLROnPlateau"
   ]
  },
  {
   "cell_type": "code",
   "execution_count": 15,
   "id": "22d9dc55",
   "metadata": {},
   "outputs": [],
   "source": [
    "scheduler = ReduceLROnPlateau(optimizer = optimizer , mode = 'max' , factor = 0.5 , patience = 5)"
   ]
  },
  {
   "cell_type": "code",
   "execution_count": null,
   "id": "91e70f98",
   "metadata": {},
   "outputs": [
    {
     "name": "stdout",
     "output_type": "stream",
     "text": [
      "Epoch [1/100] Train Loss: 0.2489 | Train Acc: 94.12% \n",
      "| Val Loss: 0.0845 | Val Acc: 97.41%\n",
      "####################################################################################################\n",
      "New checkpoint saved....\n",
      "Epoch [2/100] Train Loss: 0.1021 | Train Acc: 97.02% \n",
      "| Val Loss: 0.0625 | Val Acc: 98.14%\n",
      "####################################################################################################\n",
      "New checkpoint saved....\n",
      "Epoch [3/100] Train Loss: 0.0777 | Train Acc: 97.70% \n",
      "| Val Loss: 0.0442 | Val Acc: 98.62%\n",
      "####################################################################################################\n",
      "New checkpoint saved....\n",
      "Epoch [4/100] Train Loss: 0.0659 | Train Acc: 97.99% \n",
      "| Val Loss: 0.0355 | Val Acc: 98.87%\n",
      "####################################################################################################\n",
      "New checkpoint saved....\n",
      "Epoch [5/100] Train Loss: 0.0619 | Train Acc: 98.14% \n",
      "| Val Loss: 0.0389 | Val Acc: 98.76%\n",
      "####################################################################################################\n",
      "Epoch [6/100] Train Loss: 0.0544 | Train Acc: 98.40% \n",
      "| Val Loss: 0.0398 | Val Acc: 98.71%\n",
      "####################################################################################################\n",
      "Epoch [7/100] Train Loss: 0.0537 | Train Acc: 98.37% \n",
      "| Val Loss: 0.0355 | Val Acc: 98.82%\n",
      "####################################################################################################\n",
      "Epoch [8/100] Train Loss: 0.0475 | Train Acc: 98.59% \n",
      "| Val Loss: 0.0343 | Val Acc: 98.84%\n",
      "####################################################################################################\n",
      "Epoch [9/100] Train Loss: 0.0463 | Train Acc: 98.63% \n",
      "| Val Loss: 0.0283 | Val Acc: 99.12%\n",
      "####################################################################################################\n",
      "New checkpoint saved....\n",
      "Epoch [10/100] Train Loss: 0.0421 | Train Acc: 98.67% \n",
      "| Val Loss: 0.0330 | Val Acc: 98.92%\n",
      "####################################################################################################\n",
      "Epoch [11/100] Train Loss: 0.0400 | Train Acc: 98.79% \n",
      "| Val Loss: 0.0332 | Val Acc: 99.01%\n",
      "####################################################################################################\n",
      "Epoch [12/100] Train Loss: 0.0353 | Train Acc: 98.88% \n",
      "| Val Loss: 0.0300 | Val Acc: 99.17%\n",
      "####################################################################################################\n",
      "New checkpoint saved....\n",
      "Epoch [13/100] Train Loss: 0.0365 | Train Acc: 98.83% \n",
      "| Val Loss: 0.0302 | Val Acc: 98.98%\n",
      "####################################################################################################\n",
      "Epoch [14/100] Train Loss: 0.0323 | Train Acc: 99.01% \n",
      "| Val Loss: 0.0305 | Val Acc: 98.99%\n",
      "####################################################################################################\n",
      "Epoch [15/100] Train Loss: 0.0347 | Train Acc: 98.93% \n",
      "| Val Loss: 0.0263 | Val Acc: 99.13%\n",
      "####################################################################################################\n",
      "Epoch [16/100] Train Loss: 0.0315 | Train Acc: 98.99% \n",
      "| Val Loss: 0.0250 | Val Acc: 99.21%\n",
      "####################################################################################################\n",
      "New checkpoint saved....\n",
      "Epoch [17/100] Train Loss: 0.0286 | Train Acc: 99.07% \n",
      "| Val Loss: 0.0289 | Val Acc: 99.08%\n",
      "####################################################################################################\n",
      "Epoch [18/100] Train Loss: 0.0255 | Train Acc: 99.22% \n",
      "| Val Loss: 0.0266 | Val Acc: 99.12%\n",
      "####################################################################################################\n",
      "Epoch [19/100] Train Loss: 0.0254 | Train Acc: 99.23% \n",
      "| Val Loss: 0.0274 | Val Acc: 99.22%\n",
      "####################################################################################################\n",
      "New checkpoint saved....\n",
      "Epoch [20/100] Train Loss: 0.0270 | Train Acc: 99.14% \n",
      "| Val Loss: 0.0270 | Val Acc: 99.13%\n",
      "####################################################################################################\n",
      "Epoch [21/100] Train Loss: 0.0254 | Train Acc: 99.16% \n",
      "| Val Loss: 0.0356 | Val Acc: 98.94%\n",
      "####################################################################################################\n",
      "Epoch [22/100] Train Loss: 0.0237 | Train Acc: 99.20% \n",
      "| Val Loss: 0.0276 | Val Acc: 99.21%\n",
      "####################################################################################################\n",
      "Epoch [23/100] Train Loss: 0.0234 | Train Acc: 99.32% \n",
      "| Val Loss: 0.0259 | Val Acc: 99.21%\n",
      "####################################################################################################\n",
      "Epoch [24/100] Train Loss: 0.0238 | Train Acc: 99.26% \n",
      "| Val Loss: 0.0272 | Val Acc: 99.20%\n",
      "####################################################################################################\n",
      "Epoch [25/100] Train Loss: 0.0232 | Train Acc: 99.25% \n",
      "| Val Loss: 0.0266 | Val Acc: 99.14%\n",
      "####################################################################################################\n",
      "Epoch [26/100] Train Loss: 0.0213 | Train Acc: 99.34% \n",
      "| Val Loss: 0.0234 | Val Acc: 99.29%\n",
      "####################################################################################################\n",
      "New checkpoint saved....\n",
      "Epoch [27/100] Train Loss: 0.0228 | Train Acc: 99.24% \n",
      "| Val Loss: 0.0269 | Val Acc: 99.22%\n",
      "####################################################################################################\n",
      "Epoch [28/100] Train Loss: 0.0175 | Train Acc: 99.47% \n",
      "| Val Loss: 0.0239 | Val Acc: 99.32%\n",
      "####################################################################################################\n",
      "New checkpoint saved....\n",
      "Epoch [29/100] Train Loss: 0.0197 | Train Acc: 99.40% \n",
      "| Val Loss: 0.0250 | Val Acc: 99.26%\n",
      "####################################################################################################\n",
      "Epoch [30/100] Train Loss: 0.0196 | Train Acc: 99.40% \n",
      "| Val Loss: 0.0284 | Val Acc: 99.26%\n",
      "####################################################################################################\n",
      "Epoch [31/100] Train Loss: 0.0156 | Train Acc: 99.50% \n",
      "| Val Loss: 0.0283 | Val Acc: 99.13%\n",
      "####################################################################################################\n",
      "Epoch [32/100] Train Loss: 0.0170 | Train Acc: 99.50% \n",
      "| Val Loss: 0.0247 | Val Acc: 99.24%\n",
      "####################################################################################################\n",
      "Epoch [33/100] Train Loss: 0.0169 | Train Acc: 99.45% \n",
      "| Val Loss: 0.0242 | Val Acc: 99.24%\n",
      "####################################################################################################\n",
      "Epoch [34/100] Train Loss: 0.0179 | Train Acc: 99.47% \n",
      "| Val Loss: 0.0267 | Val Acc: 99.28%\n",
      "####################################################################################################\n",
      "Epoch [35/100] Train Loss: 0.0163 | Train Acc: 99.51% \n",
      "| Val Loss: 0.0223 | Val Acc: 99.34%\n",
      "####################################################################################################\n",
      "New checkpoint saved....\n",
      "Epoch [36/100] Train Loss: 0.0131 | Train Acc: 99.55% \n",
      "| Val Loss: 0.0256 | Val Acc: 99.28%\n",
      "####################################################################################################\n",
      "Epoch [37/100] Train Loss: 0.0197 | Train Acc: 99.37% \n",
      "| Val Loss: 0.0268 | Val Acc: 99.23%\n",
      "####################################################################################################\n",
      "Epoch [38/100] Train Loss: 0.0150 | Train Acc: 99.50% \n",
      "| Val Loss: 0.0234 | Val Acc: 99.25%\n",
      "####################################################################################################\n",
      "Epoch [39/100] Train Loss: 0.0146 | Train Acc: 99.52% \n",
      "| Val Loss: 0.0245 | Val Acc: 99.27%\n",
      "####################################################################################################\n",
      "Epoch [40/100] Train Loss: 0.0136 | Train Acc: 99.57% \n",
      "| Val Loss: 0.0272 | Val Acc: 99.28%\n",
      "####################################################################################################\n",
      "Epoch [41/100] Train Loss: 0.0133 | Train Acc: 99.58% \n",
      "| Val Loss: 0.0262 | Val Acc: 99.25%\n",
      "####################################################################################################\n",
      "Epoch [42/100] Train Loss: 0.0164 | Train Acc: 99.49% \n",
      "| Val Loss: 0.0285 | Val Acc: 99.18%\n",
      "####################################################################################################\n",
      "Epoch [43/100] Train Loss: 0.0117 | Train Acc: 99.61% \n",
      "| Val Loss: 0.0293 | Val Acc: 99.26%\n",
      "####################################################################################################\n",
      "Epoch [44/100] Train Loss: 0.0137 | Train Acc: 99.57% \n",
      "| Val Loss: 0.0285 | Val Acc: 99.26%\n",
      "####################################################################################################\n",
      "Epoch [45/100] Train Loss: 0.0135 | Train Acc: 99.56% \n",
      "| Val Loss: 0.0267 | Val Acc: 99.32%\n",
      "####################################################################################################\n",
      "Epoch [46/100] Train Loss: 0.0157 | Train Acc: 99.50% \n",
      "| Val Loss: 0.0275 | Val Acc: 99.22%\n",
      "####################################################################################################\n",
      "Epoch [47/100] Train Loss: 0.0125 | Train Acc: 99.60% \n",
      "| Val Loss: 0.0278 | Val Acc: 99.28%\n",
      "####################################################################################################\n",
      "Epoch [48/100] Train Loss: 0.0137 | Train Acc: 99.53% \n",
      "| Val Loss: 0.0245 | Val Acc: 99.32%\n",
      "####################################################################################################\n",
      "Epoch [49/100] Train Loss: 0.0139 | Train Acc: 99.51% \n",
      "| Val Loss: 0.0270 | Val Acc: 99.20%\n",
      "####################################################################################################\n",
      "Epoch [50/100] Train Loss: 0.0115 | Train Acc: 99.64% \n",
      "| Val Loss: 0.0245 | Val Acc: 99.23%\n",
      "####################################################################################################\n",
      "Epoch [51/100] Train Loss: 0.0114 | Train Acc: 99.63% \n",
      "| Val Loss: 0.0254 | Val Acc: 99.29%\n",
      "####################################################################################################\n",
      "Epoch [52/100] Train Loss: 0.0124 | Train Acc: 99.55% \n",
      "| Val Loss: 0.0227 | Val Acc: 99.34%\n",
      "####################################################################################################\n",
      "Epoch [53/100] Train Loss: 0.0103 | Train Acc: 99.66% \n",
      "| Val Loss: 0.0293 | Val Acc: 99.21%\n",
      "####################################################################################################\n",
      "Epoch [54/100] Train Loss: 0.0112 | Train Acc: 99.62% \n",
      "| Val Loss: 0.0292 | Val Acc: 99.26%\n",
      "####################################################################################################\n",
      "Epoch [55/100] Train Loss: 0.0123 | Train Acc: 99.63% \n",
      "| Val Loss: 0.0311 | Val Acc: 99.22%\n",
      "####################################################################################################\n",
      "Epoch [56/100] Train Loss: 0.0122 | Train Acc: 99.57% \n",
      "| Val Loss: 0.0322 | Val Acc: 99.16%\n",
      "####################################################################################################\n",
      "Epoch [57/100] Train Loss: 0.0109 | Train Acc: 99.64% \n",
      "| Val Loss: 0.0337 | Val Acc: 99.22%\n",
      "####################################################################################################\n",
      "Epoch [58/100] Train Loss: 0.0130 | Train Acc: 99.55% \n",
      "| Val Loss: 0.0305 | Val Acc: 99.26%\n",
      "####################################################################################################\n",
      "Epoch [59/100] Train Loss: 0.0122 | Train Acc: 99.58% \n",
      "| Val Loss: 0.0230 | Val Acc: 99.34%\n",
      "####################################################################################################\n",
      "Epoch [60/100] Train Loss: 0.0093 | Train Acc: 99.69% \n",
      "| Val Loss: 0.0271 | Val Acc: 99.35%\n",
      "####################################################################################################\n",
      "New checkpoint saved....\n",
      "Epoch [61/100] Train Loss: 0.0109 | Train Acc: 99.63% \n",
      "| Val Loss: 0.0277 | Val Acc: 99.24%\n",
      "####################################################################################################\n",
      "Epoch [62/100] Train Loss: 0.0093 | Train Acc: 99.69% \n",
      "| Val Loss: 0.0258 | Val Acc: 99.39%\n",
      "####################################################################################################\n",
      "New checkpoint saved....\n",
      "Epoch [63/100] Train Loss: 0.0131 | Train Acc: 99.60% \n",
      "| Val Loss: 0.0259 | Val Acc: 99.37%\n",
      "####################################################################################################\n",
      "Epoch [64/100] Train Loss: 0.0096 | Train Acc: 99.66% \n",
      "| Val Loss: 0.0267 | Val Acc: 99.36%\n",
      "####################################################################################################\n",
      "Epoch [65/100] Train Loss: 0.0089 | Train Acc: 99.73% \n",
      "| Val Loss: 0.0247 | Val Acc: 99.28%\n",
      "####################################################################################################\n",
      "Epoch [66/100] Train Loss: 0.0081 | Train Acc: 99.71% \n",
      "| Val Loss: 0.0269 | Val Acc: 99.30%\n",
      "####################################################################################################\n",
      "Epoch [67/100] Train Loss: 0.0104 | Train Acc: 99.65% \n",
      "| Val Loss: 0.0276 | Val Acc: 99.27%\n",
      "####################################################################################################\n",
      "Epoch [68/100] Train Loss: 0.0082 | Train Acc: 99.70% \n",
      "| Val Loss: 0.0282 | Val Acc: 99.36%\n",
      "####################################################################################################\n",
      "Epoch [69/100] Train Loss: 0.0105 | Train Acc: 99.65% \n",
      "| Val Loss: 0.0250 | Val Acc: 99.25%\n",
      "####################################################################################################\n",
      "Epoch [70/100] Train Loss: 0.0109 | Train Acc: 99.62% \n",
      "| Val Loss: 0.0225 | Val Acc: 99.39%\n",
      "####################################################################################################\n",
      "Epoch [71/100] Train Loss: 0.0092 | Train Acc: 99.73% \n",
      "| Val Loss: 0.0297 | Val Acc: 99.27%\n",
      "####################################################################################################\n",
      "Epoch [72/100] Train Loss: 0.0093 | Train Acc: 99.71% \n",
      "| Val Loss: 0.0252 | Val Acc: 99.35%\n",
      "####################################################################################################\n",
      "Epoch [73/100] Train Loss: 0.0105 | Train Acc: 99.64% \n",
      "| Val Loss: 0.0324 | Val Acc: 99.23%\n",
      "####################################################################################################\n",
      "Epoch [74/100] Train Loss: 0.0099 | Train Acc: 99.70% \n",
      "| Val Loss: 0.0320 | Val Acc: 99.26%\n",
      "####################################################################################################\n",
      "Epoch [75/100] Train Loss: 0.0088 | Train Acc: 99.70% \n",
      "| Val Loss: 0.0310 | Val Acc: 99.30%\n",
      "####################################################################################################\n",
      "Epoch [76/100] Train Loss: 0.0107 | Train Acc: 99.64% \n",
      "| Val Loss: 0.0321 | Val Acc: 99.25%\n",
      "####################################################################################################\n",
      "Epoch [77/100] Train Loss: 0.0086 | Train Acc: 99.71% \n",
      "| Val Loss: 0.0281 | Val Acc: 99.25%\n",
      "####################################################################################################\n",
      "Epoch [78/100] Train Loss: 0.0090 | Train Acc: 99.69% \n",
      "| Val Loss: 0.0292 | Val Acc: 99.29%\n",
      "####################################################################################################\n",
      "Epoch [79/100] Train Loss: 0.0078 | Train Acc: 99.73% \n",
      "| Val Loss: 0.0328 | Val Acc: 99.27%\n",
      "####################################################################################################\n",
      "Epoch [80/100] Train Loss: 0.0072 | Train Acc: 99.74% \n",
      "| Val Loss: 0.0263 | Val Acc: 99.32%\n",
      "####################################################################################################\n",
      "Epoch [81/100] Train Loss: 0.0086 | Train Acc: 99.74% \n",
      "| Val Loss: 0.0335 | Val Acc: 99.19%\n",
      "####################################################################################################\n",
      "Epoch [82/100] Train Loss: 0.0114 | Train Acc: 99.63% \n",
      "| Val Loss: 0.0261 | Val Acc: 99.36%\n",
      "####################################################################################################\n",
      "Epoch [83/100] Train Loss: 0.0098 | Train Acc: 99.65% \n",
      "| Val Loss: 0.0290 | Val Acc: 99.26%\n",
      "####################################################################################################\n",
      "Epoch [84/100] Train Loss: 0.0090 | Train Acc: 99.70% \n",
      "| Val Loss: 0.0270 | Val Acc: 99.37%\n",
      "####################################################################################################\n",
      "Epoch [85/100] Train Loss: 0.0084 | Train Acc: 99.74% \n",
      "| Val Loss: 0.0300 | Val Acc: 99.29%\n",
      "####################################################################################################\n",
      "Epoch [86/100] Train Loss: 0.0087 | Train Acc: 99.71% \n",
      "| Val Loss: 0.0260 | Val Acc: 99.31%\n",
      "####################################################################################################\n",
      "Epoch [87/100] Train Loss: 0.0082 | Train Acc: 99.73% \n",
      "| Val Loss: 0.0298 | Val Acc: 99.30%\n",
      "####################################################################################################\n",
      "Epoch [88/100] Train Loss: 0.0072 | Train Acc: 99.76% \n",
      "| Val Loss: 0.0300 | Val Acc: 99.26%\n",
      "####################################################################################################\n",
      "Epoch [89/100] Train Loss: 0.0089 | Train Acc: 99.73% \n",
      "| Val Loss: 0.0251 | Val Acc: 99.36%\n",
      "####################################################################################################\n",
      "Epoch [90/100] Train Loss: 0.0086 | Train Acc: 99.73% \n",
      "| Val Loss: 0.0294 | Val Acc: 99.29%\n",
      "####################################################################################################\n",
      "Epoch [91/100] Train Loss: 0.0087 | Train Acc: 99.71% \n",
      "| Val Loss: 0.0292 | Val Acc: 99.23%\n",
      "####################################################################################################\n",
      "Epoch [92/100] Train Loss: 0.0068 | Train Acc: 99.78% \n",
      "| Val Loss: 0.0280 | Val Acc: 99.35%\n",
      "####################################################################################################\n",
      "Epoch [93/100] Train Loss: 0.0100 | Train Acc: 99.69% \n",
      "| Val Loss: 0.0349 | Val Acc: 99.14%\n",
      "####################################################################################################\n",
      "Epoch [94/100] Train Loss: 0.0105 | Train Acc: 99.63% \n",
      "| Val Loss: 0.0305 | Val Acc: 99.24%\n",
      "####################################################################################################\n",
      "Epoch [95/100] Train Loss: 0.0087 | Train Acc: 99.73% \n",
      "| Val Loss: 0.0242 | Val Acc: 99.39%\n",
      "####################################################################################################\n",
      "Epoch [96/100] Train Loss: 0.0064 | Train Acc: 99.79% \n",
      "| Val Loss: 0.0263 | Val Acc: 99.34%\n",
      "####################################################################################################\n"
     ]
    }
   ],
   "source": [
    "epoches = 100\n",
    "best_acc = 0\n",
    "train_acc_list = []\n",
    "val_acc_list = []\n",
    "for epoch in range(epoches):\n",
    "    model.train()\n",
    "    runnining_loss , correct , total = 0.0 , 0 ,0\n",
    "    for inputs, labels in loaders[\"train\"]:\n",
    "        inputs , labels = inputs.to(device) , labels.to(device)\n",
    "\n",
    "        optimizer.zero_grad()\n",
    "        outputs = model(inputs.float())\n",
    "        loss = criterion(outputs,labels)\n",
    "        loss.backward()\n",
    "        optimizer.step()\n",
    "\n",
    "        runnining_loss += loss.item()\n",
    "        _,predicted = torch.max(outputs.data,1)\n",
    "        total += labels.size(0)\n",
    "        correct += (predicted == labels).sum().item()\n",
    "\n",
    "    trian_loss = runnining_loss / len(train_loader)\n",
    "    train_acc = 100 * correct / total\n",
    "    train_acc_list.append(train_acc) \n",
    "\n",
    "\n",
    "    model.eval()\n",
    "    val_loss, val_correct, val_total = 0.0, 0, 0\n",
    "    with torch.no_grad():\n",
    "        for inputs, labels in loaders[\"val\"]:\n",
    "            inputs, labels = inputs.to(device), labels.to(device)\n",
    "            outputs = model(inputs.float())\n",
    "            loss = criterion(outputs, labels)\n",
    "            val_loss += loss.item()\n",
    "            _, predicted = torch.max(outputs, 1)\n",
    "            val_total += labels.size(0)\n",
    "            val_correct += (predicted == labels).sum().item()\n",
    "\n",
    "    val_loss /= len(loaders[\"val\"])\n",
    "    val_acc = 100 * val_correct / val_total\n",
    "    val_acc_list.append(val_acc) \n",
    "    print(\n",
    "        f\"Epoch [{epoch+1}/{epoches}] \"\n",
    "        f\"Train Loss: {trian_loss:.4f} | Train Acc: {train_acc:.2f}% \\n\"\n",
    "        f\"| Val Loss: {val_loss:.4f} | Val Acc: {val_acc:.2f}%\"\n",
    "    )\n",
    "\n",
    "    if val_acc > best_acc:\n",
    "        best_acc = val_acc\n",
    "        save_checkpoint(model, optimizer, epoch, scheduler, best_acc)\n",
    "        \n",
    "    print(\"#\"*100)\n"
   ]
  },
  {
   "cell_type": "code",
   "execution_count": null,
   "id": "fa4d132e",
   "metadata": {},
   "outputs": [],
   "source": [
    "import matplotlib.pyplot as plt\n",
    "\n",
    "plt.figure(figsize=(8,5))\n",
    "plt.plot(range(1, epoches+1), train_acc_list, label='Train Accuracy')\n",
    "plt.plot(range(1, epoches+1), val_acc_list, label='Validation Accuracy')\n",
    "plt.xlabel('Epochs')\n",
    "plt.ylabel('Accuracy (%)')\n",
    "plt.title('Accuracy vs Epochs')\n",
    "plt.legend()\n",
    "plt.grid(True)\n",
    "plt.show()"
   ]
  },
  {
   "cell_type": "code",
   "execution_count": null,
   "id": "692e7468",
   "metadata": {},
   "outputs": [],
   "source": [
    "def load_check_point(model,file_name='CheckPoint.pth',device=\"cpu\"):\n",
    "    checkpoint = torch.load(file_name,map_location=device)\n",
    "    model.load_state_dict(checkpoint['model'])\n",
    "    model.to(device)\n",
    "    model.eval()\n",
    "    print(f\"Loaded checkpoint from epoch {checkpoint['epoch']} with best_acc {checkpoint['best_acc']:.2f}%\")\n",
    "    return model"
   ]
  },
  {
   "cell_type": "code",
   "execution_count": null,
   "id": "7afe2f96",
   "metadata": {},
   "outputs": [],
   "source": [
    "model = SimpleCNN()\n",
    "model = load_check_point(model,'CheckPoint.pth',device=device)\n",
    "predictions = []\n",
    "with torch.no_grad():\n",
    "    for data in loaders['test']:\n",
    "        data = data.to(device)\n",
    "        outputs = model(data.float())\n",
    "        _,predicted = torch.max(outputs.data,1)\n",
    "        predictions.extend(predicted.cpu().numpy())\n",
    "\n",
    "submission = pd.DataFrame({\n",
    "    \"ImageId\" : range(1,len(predictions)+1),\n",
    "    \"Label\"  : predictions\n",
    "}) \n",
    "submission.to_csv(\"MNist_digits_predictions.csv\",index=False)       "
   ]
  }
 ],
 "metadata": {
  "kernelspec": {
   "display_name": "Python 3",
   "language": "python",
   "name": "python3"
  },
  "language_info": {
   "codemirror_mode": {
    "name": "ipython",
    "version": 3
   },
   "file_extension": ".py",
   "mimetype": "text/x-python",
   "name": "python",
   "nbconvert_exporter": "python",
   "pygments_lexer": "ipython3",
   "version": "3.12.1"
  }
 },
 "nbformat": 4,
 "nbformat_minor": 5
}
